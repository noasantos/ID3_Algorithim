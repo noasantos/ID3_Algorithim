{
 "cells": [
  {
   "cell_type": "markdown",
   "metadata": {},
   "source": [
    "#ID3: Algorithim Implementation from Scratch"
   ]
  },
  {
   "cell_type": "code",
   "execution_count": null,
   "metadata": {},
   "outputs": [],
   "source": [
    "class Node:\n",
    "    def __init__(self, type):\n",
    "        self.type = type\n",
    "        self.children = []\n",
    "    \n",
    "    def addLeafNode(self, attributeValue, targetValue, count):\n",
    "        child = Leaf(attributeValue, targetValue, count)\n",
    "        self.children.append(child)\n",
    "        return child\n",
    "        \n",
    "    def addAttributeNode(self, attribute, isDiscreteType, count, majorTargetValue, edgeLabel):\n",
    "        child = Attribute(attribute, isDiscreteType, count, majorTargetValue, edgeLabel)\n",
    "        self.children.append(child)\n",
    "        return child"
   ]
  },
  {
   "cell_type": "markdown",
   "metadata": {},
   "source": [
    "Node Types: Attribute and Leaf"
   ]
  },
  {
   "cell_type": "code",
   "execution_count": null,
   "metadata": {},
   "outputs": [],
   "source": [
    "class Attribute(Node):\n",
    "    def __init__(self, attribute=None, isDiscreteType=None, count=None, majorTargetValue=None, attributeValue=None):\n",
    "        super().__init__(type)\n",
    "        self.attribute = attribute \n",
    "        self.isDiscreteType = isDiscreteType\n",
    "        self.count = count\n",
    "        self.majorTargetValue = majorTargetValue\n",
    "        self.attributeValue = attributeValue\n",
    "        \n",
    "    def setAttribute(self, attribute):\n",
    "        self.attribute = attribute\n",
    "        \n",
    "    def setIsDiscreteType(self, typeBool):\n",
    "        self.isDiscreteType = typeBool        \n",
    "\n",
    "class Leaf(Node):\n",
    "    def __init__(self, attributeValue, targetValue, count=None):\n",
    "        super().__init__(type)\n",
    "        self.attributeValue = attributeValue #edgeLabel\n",
    "        self.targetValue = targetValue\n",
    "        self.count = count"
   ]
  },
  {
   "cell_type": "markdown",
   "metadata": {},
   "source": []
  },
  {
   "cell_type": "code",
   "execution_count": null,
   "metadata": {},
   "outputs": [],
   "source": [
    "def buildTree(dataframe: pd.DataFrame, parentNode=None, uniqueValues=None):\n",
    "    print(parentNode)\n",
    "    target, attributes = dataframe.iloc[:, -1], dataframe.iloc[:, :-1]\n",
    "    bestAttribute, bestSplit = getMostInformativeFeature(attributes, target)\n",
    "    isDiscreteType = True if bestSplit is None else False\n",
    "    \n",
    "    if attributes.empty:\n",
    "        return\n",
    "    elif parentNode is None: #rootNode need to be created\n",
    "        parentNode = Attribute(bestAttribute, isDiscreteType, len(attributes), target.value_counts().idxmax())\n",
    "        uniqueValues = {col: dataframe[col].unique().tolist() for col in dataframe}\n",
    "    else:\n",
    "        parentNode.setAttribute(bestAttribute)\n",
    "        parentNode.setIsDiscreteType(isDiscreteType)\n",
    "    \n",
    "    if isDiscreteType: #Column Type is Discrete\n",
    "        currentValues = attributes[bestAttribute].unique()\n",
    "        allAttributeValues = uniqueValues[bestAttribute]\n",
    "        discreteChildren(dataframe, parentNode, currentValues, uniqueValues)\n",
    "        leafForValueNotInCurrValues(parentNode, currentValues, allAttributeValues)\n",
    "    else: #Column Type is Continuous\n",
    "        continuousChildren(dataframe, parentNode, bestSplit, uniqueValues)\n",
    "        \n",
    "    return parentNode"
   ]
  },
  {
   "cell_type": "markdown",
   "metadata": {},
   "source": []
  },
  {
   "cell_type": "code",
   "execution_count": null,
   "metadata": {},
   "outputs": [],
   "source": [
    "def continuousChildren(dataframe, parentNode, bestSplit, uniqueValues):\n",
    "    dfLessEqual = (dataframe.loc[dataframe[parentNode.attribute] <= bestSplit]).drop(columns=parentNode.attribute)\n",
    "    dfGreater = (dataframe.loc[dataframe[parentNode.attribute] > bestSplit]).drop(columns=parentNode.attribute)\n",
    "    for childDataFrame in [dfLessEqual, dfGreater]: \n",
    "        if childDataFrame.equals(dfLessEqual):\n",
    "            attributeValue = \"<=\" + str(bestSplit)\n",
    "        else:\n",
    "            attributeValue = \">\" + str(bestSplit)\n",
    "        createNewNode(parentNode, childDataFrame, attributeValue, uniqueValues)\n",
    "    return\n"
   ]
  },
  {
   "cell_type": "markdown",
   "metadata": {},
   "source": []
  },
  {
   "cell_type": "code",
   "execution_count": null,
   "metadata": {},
   "outputs": [],
   "source": [
    "def discreteChildren(dataframe, parentNode, currentValues, uniqueValues):\n",
    "    for attributeValue in currentValues:\n",
    "            childDataFrame = (dataframe[dataframe[parentNode.attribute] == attributeValue]).drop(columns=parentNode.attribute)\n",
    "            \n",
    "            createNewNode(parentNode, childDataFrame, attributeValue, uniqueValues)\n",
    "    return\n",
    "\n",
    "def leafForValueNotInCurrValues(parentNode, currentValues, allAttributeValues):\n",
    "    for attributeValue in allAttributeValues:\n",
    "        if attributeValue not in currentValues:\n",
    "            parentNode.addLeafNode(attributeValue, parentNode.majorTargetValue, 0)\n",
    "    return"
   ]
  },
  {
   "cell_type": "markdown",
   "metadata": {},
   "source": []
  },
  {
   "cell_type": "code",
   "execution_count": null,
   "metadata": {},
   "outputs": [],
   "source": [
    "def createNewNode(parentNode, childDataFrame, attributeValue, uniqueValues):\n",
    "    counts = childDataFrame.iloc[:, -1].value_counts()\n",
    "    count = len(childDataFrame)\n",
    "    if isNodePure(counts) or not isAttributesAvailable(childDataFrame):\n",
    "        targetValue = counts.idxmax()\n",
    "        parentNode.addLeafNode(attributeValue, targetValue, count)\n",
    "    else:\n",
    "        attributeNode = parentNode.addAttributeNode(attribute=None, isDiscreteType=None, count=count, majorTargetValue=counts.idxmax(), edgeLabel=attributeValue)   \n",
    "        buildTree(childDataFrame, attributeNode, uniqueValues)\n",
    "    return\n",
    "\n",
    "def isAttributesAvailable(childDataFrame):\n",
    "    return childDataFrame.shape[1] > 1\n",
    " \n",
    "def isNodePure(counts):\n",
    "    return len(counts) == 1"
   ]
  },
  {
   "cell_type": "markdown",
   "metadata": {},
   "source": []
  },
  {
   "cell_type": "code",
   "execution_count": null,
   "metadata": {},
   "outputs": [],
   "source": [
    "def entropy(target: pd.DataFrame):\n",
    "    counts = target.value_counts()\n",
    "    probs = counts/len(target)\n",
    "    return np.sum(-probs * np.log2(probs))"
   ]
  },
  {
   "cell_type": "markdown",
   "metadata": {},
   "source": []
  },
  {
   "cell_type": "code",
   "execution_count": null,
   "metadata": {},
   "outputs": [],
   "source": [
    "def continousEntropy(feature, target):\n",
    "    dfTemp = pd.concat([feature, target], axis=1)\n",
    "    entropyResults = {}\n",
    "    inverseEntropyResults = {}\n",
    "    uniqueValuesList = sorted(feature.unique().tolist())\n",
    "    \n",
    "    for value in uniqueValuesList:\n",
    "        totalWeightedEntropy = splitEntropy(dfTemp, value)\n",
    "        \n",
    "        entropyResults[value] = totalWeightedEntropy\n",
    "        inverseEntropyResults[totalWeightedEntropy] = value\n",
    "    \n",
    "    smallestEntropy = min(entropyResults.values())\n",
    "    splitPoint = inverseEntropyResults[smallestEntropy]\n",
    "    return smallestEntropy, splitPoint\n",
    "            \n",
    "def splitEntropy(df: pd.DataFrame, splitPoint):\n",
    "    feature, target = df.columns\n",
    "    dfLessEqual = df.loc[df[feature] <= splitPoint]\n",
    "    dfGreater = df.loc[df[feature] > splitPoint]\n",
    "    \n",
    "    lessEqualEntropy = entropy(dfLessEqual[target])\n",
    "    greaterEntropy = entropy(dfGreater[target])\n",
    "    n = len(df)\n",
    "    totalWeightedEntropy = lessEqualEntropy * len(dfLessEqual)/n + greaterEntropy * len(dfGreater)/n\n",
    "    return totalWeightedEntropy"
   ]
  },
  {
   "cell_type": "markdown",
   "metadata": {},
   "source": []
  },
  {
   "cell_type": "code",
   "execution_count": null,
   "metadata": {},
   "outputs": [],
   "source": [
    "def  discreteEntropy(feature, target):\n",
    "    dfTemp = pd.concat([feature, target], axis=1)\n",
    "    uniqueValues = feature.unique()\n",
    "    totalWeightedEntropy = 0\n",
    "    \n",
    "    for value in uniqueValues:\n",
    "        subSet = dfTemp[dfTemp[feature.name] == value]\n",
    "        \n",
    "        totalWeightedEntropy += len(subSet) / len(dfTemp) * entropy(subSet[target.name])\n",
    "    \n",
    "    return totalWeightedEntropy"
   ]
  },
  {
   "cell_type": "markdown",
   "metadata": {},
   "source": []
  },
  {
   "cell_type": "code",
   "execution_count": null,
   "metadata": {},
   "outputs": [],
   "source": [
    "def informationGain(feature, target, entrophyBefore):\n",
    "    continuousSplitPoint = None\n",
    "    if pd.api.types.is_numeric_dtype(feature):\n",
    "        weightedEntrophyAfter, continuousSplitPoint= continousEntropy(feature, target)\n",
    "    else: \n",
    "        weightedEntrophyAfter = discreteEntropy(feature, target)\n",
    "    infoGain = entrophyBefore - weightedEntrophyAfter\n",
    "    return infoGain, continuousSplitPoint\n",
    "\n",
    "def getMostInformativeFeature(attributes, target):\n",
    "    entrophyBefore = entropy(target)\n",
    "    maxInfoGain = -1\n",
    "    bestInfoAttribute = None\n",
    "    \n",
    "    for _, attributeCol in enumerate(attributes):\n",
    "        colInfoGain, splitPoint = informationGain(attributes[attributeCol], target, entrophyBefore)\n",
    "        if colInfoGain > maxInfoGain:\n",
    "            maxInfoGain = colInfoGain\n",
    "            bestInfoAttribute = attributeCol\n",
    "            bestSplit = splitPoint\n",
    "    return bestInfoAttribute, bestSplit"
   ]
  },
  {
   "cell_type": "markdown",
   "metadata": {},
   "source": []
  },
  {
   "cell_type": "code",
   "execution_count": null,
   "metadata": {},
   "outputs": [],
   "source": [
    "def predictClass(node, rowData):\n",
    "    if isinstance(node, Leaf):\n",
    "        return node.targetValue\n",
    "    \n",
    "    for child in node.children:\n",
    "        if node.isDiscreteType:\n",
    "            if child.attributeValue == rowData[node.attribute]:\n",
    "                return predictClass(child, rowData)\n",
    "        else:\n",
    "            if child.attributeValue.startswith(\"<=\"):\n",
    "                if rowData[node.attribute] <= float(child.attributeValue.lstrip(\"<=\")):\n",
    "                    return predictClass(child, rowData)\n",
    "            elif child.attributeValue.startswith(\">\"):\n",
    "                if rowData[node.attribute] > float(child.attributeValue.lstrip(\">\")):\n",
    "                    return predictClass(child, rowData)\n",
    "\n",
    "def addPredictedColumn(rootNode, testData: pd.DataFrame):\n",
    "    predicted = []\n",
    "    \n",
    "    for _, row in testData.iterrows():\n",
    "        predictedClass = predictClass(rootNode, row)\n",
    "        predicted.append(predictedClass)\n",
    "    testData['Predicted Class'] = predicted\n",
    "    return testData     \n",
    "\n",
    "def calculateAccuracy(testData):\n",
    "    return accuracy_score(testData.iloc[:, -2], testData.iloc[:, -1])  "
   ]
  },
  {
   "cell_type": "markdown",
   "metadata": {},
   "source": []
  },
  {
   "cell_type": "code",
   "execution_count": null,
   "metadata": {},
   "outputs": [],
   "source": [
    "def runID3_TRAINTEST(datasource):\n",
    "    df = preProcess(pd.read_csv(datasource, keep_default_na=False))\n",
    "    trainData, testData = train_test_split(df, test_size=0.2, random_state=42)\n",
    "    rootNode = buildTree(trainData)\n",
    "    printTree(rootNode, attributeChild=False)\n",
    "    testData = addPredictedColumn(rootNode, testData)\n",
    "    print(testData)\n",
    "    buildTreeImg(rootNode, \"iris\")\n",
    "    return calculateAccuracy(testData)\n",
    "\n",
    "def runID3_ALLDATA(datasource):\n",
    "    df = preProcess(pd.read_csv(datasource, keep_default_na=False))\n",
    "    rootNode = buildTree(df)\n",
    "    printTree(rootNode, attributeChild=False)\n",
    "    \n",
    "    buildTreeImg(rootNode, \"iris\")"
   ]
  },
  {
   "cell_type": "markdown",
   "metadata": {},
   "source": []
  },
  {
   "cell_type": "code",
   "execution_count": null,
   "metadata": {},
   "outputs": [],
   "source": [
    "def buildTreeImg(rootNode, dataset_name):\n",
    "    dot = exportTree(rootNode)\n",
    "    dot.render(\"f{dataset_name}_ID3_DT\", format=\"png\")\n",
    "    dot.view()\n",
    "\n",
    "def exportTree(node, dot=None, parent_name=None, edge_label=\"\"):\n",
    "    if dot is None:\n",
    "        dot = Digraph()\n",
    "    \n",
    "    if isinstance(node, Attribute):\n",
    "        node_label = f\"{node.attribute}\"\n",
    "    elif isinstance(node, Leaf):\n",
    "        node_label = f\"{node.targetValue}\\n{node.count}\"\n",
    "    \n",
    "    curr_node_name = f\"{id(node)}\" \n",
    "    dot.node(curr_node_name, label=node_label, shape=\"ellipse\" if isinstance(node, Leaf) else \"box\")\n",
    "    \n",
    "    if parent_name is not None:\n",
    "        dot.edge(parent_name, curr_node_name, label=edge_label)\n",
    "    \n",
    "    for child in node.children:\n",
    "        edge_label = child.attributeValue\n",
    "        exportTree(child, dot, curr_node_name, edge_label)\n",
    "                   \n",
    "    return dot"
   ]
  }
 ],
 "metadata": {
  "kernelspec": {
   "display_name": "Python 3",
   "language": "python",
   "name": "python3"
  },
  "language_info": {
   "codemirror_mode": {
    "name": "ipython",
    "version": 3
   },
   "file_extension": ".py",
   "mimetype": "text/x-python",
   "name": "python",
   "nbconvert_exporter": "python",
   "pygments_lexer": "ipython3",
   "version": "3.12.0"
  }
 },
 "nbformat": 4,
 "nbformat_minor": 2
}
