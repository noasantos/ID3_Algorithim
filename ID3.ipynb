{
 "cells": [
  {
   "cell_type": "markdown",
   "metadata": {},
   "source": [
    "ID3: Algorithim Implementation from Scratch"
   ]
  },
  {
   "cell_type": "code",
   "execution_count": null,
   "metadata": {},
   "outputs": [],
   "source": [
    "class Node: #Main Class\n",
    "    def __init__(self):\n",
    "        self.children = []\n",
    "    \n",
    "    def addLeafNode(self, attributeValue, targetValue, count):\n",
    "        child = Leaf(attributeValue, targetValue, count)\n",
    "        self.children.append(child)\n",
    "        return child\n",
    "        \n",
    "    def addAttributeNode(self, attribute, isDiscreteType, count, majorTargetValue, edgeLabel):\n",
    "        child = Attribute(attribute, isDiscreteType, count, majorTargetValue, edgeLabel)\n",
    "        self.children.append(child)\n",
    "        return child\n",
    "    \n",
    "class Attribute(Node): #Sub-Class Type Attribute/Internal Node\n",
    "    def __init__(self, attribute=None, isDiscreteType=None, count=None, majorTargetValue=None, attributeValue=None):\n",
    "        super().__init__(type)\n",
    "        self.attribute = attribute \n",
    "        self.isDiscreteType = isDiscreteType\n",
    "        self.count = count\n",
    "        self.majorTargetValue = majorTargetValue\n",
    "        self.attributeValue = attributeValue\n",
    "        \n",
    "    def setAttribute(self, attribute):\n",
    "        self.attribute = attribute\n",
    "        \n",
    "    def setIsDiscreteType(self, typeBool):\n",
    "        self.isDiscreteType = typeBool        \n",
    "\n",
    "class Leaf(Node): #Sub-Class Type Leaf Node\n",
    "    def __init__(self, attributeValue, targetValue, count=None):\n",
    "        super().__init__(type)\n",
    "        self.attributeValue = attributeValue #edgeLabel\n",
    "        self.targetValue = targetValue\n",
    "        self.count = count"
   ]
  }
 ],
 "metadata": {
  "kernelspec": {
   "display_name": "Python 3",
   "language": "python",
   "name": "python3"
  },
  "language_info": {
   "name": "python",
   "version": "3.12.0"
  }
 },
 "nbformat": 4,
 "nbformat_minor": 2
}
